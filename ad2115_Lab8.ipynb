{
  "nbformat": 4,
  "nbformat_minor": 0,
  "metadata": {
    "colab": {
      "provenance": []
    },
    "kernelspec": {
      "name": "python3",
      "display_name": "Python 3"
    },
    "language_info": {
      "name": "python"
    }
  },
  "cells": [
    {
      "cell_type": "code",
      "source": [
        "import polars as pl\n",
        "\n",
        "# Load the diamonds dataset\n",
        "print(\"Loading diamonds dataset...\")\n",
        "df = pl.read_csv('https://raw.githubusercontent.com/pycaret/pycaret/master/datasets/diamond.csv')\n",
        "print(\"Dataset loaded successfully!\")"
      ],
      "metadata": {
        "colab": {
          "base_uri": "https://localhost:8080/"
        },
        "id": "7q2_JeZKJNEK",
        "outputId": "5545ebb3-c7e0-434b-b37a-2b791581b57d"
      },
      "execution_count": 2,
      "outputs": [
        {
          "output_type": "stream",
          "name": "stdout",
          "text": [
            "Loading diamonds dataset...\n",
            "Dataset loaded successfully!\n"
          ]
        }
      ]
    },
    {
      "cell_type": "code",
      "source": [
        "print(f\"Rows (diamonds): {df.height}\")\n",
        "print(f\"Columns (fields): {df.width}\")"
      ],
      "metadata": {
        "colab": {
          "base_uri": "https://localhost:8080/"
        },
        "id": "BsBcnED-JQL4",
        "outputId": "8dd18f9b-f4c3-4c95-d9ad-356444be312e"
      },
      "execution_count": 3,
      "outputs": [
        {
          "output_type": "stream",
          "name": "stdout",
          "text": [
            "Rows (diamonds): 6000\n",
            "Columns (fields): 8\n"
          ]
        }
      ]
    },
    {
      "cell_type": "code",
      "source": [
        "for name, dtype in zip(df.columns, df.dtypes):\n",
        "    print(f\"{name}: {dtype}\")"
      ],
      "metadata": {
        "colab": {
          "base_uri": "https://localhost:8080/"
        },
        "id": "nWAu38AOJkHg",
        "outputId": "ea3f911b-89b7-4457-b386-0644ac74075d"
      },
      "execution_count": 4,
      "outputs": [
        {
          "output_type": "stream",
          "name": "stdout",
          "text": [
            "Carat Weight: Float64\n",
            "Cut: String\n",
            "Color: String\n",
            "Clarity: String\n",
            "Polish: String\n",
            "Symmetry: String\n",
            "Report: String\n",
            "Price: Int64\n"
          ]
        }
      ]
    },
    {
      "cell_type": "code",
      "source": [
        "# Each row represents a single diamond in the inventory,\n",
        "# with all its attributes (cut, color, clarity, carat, price, dimensions)."
      ],
      "metadata": {
        "id": "bz10UBz9JnZS"
      },
      "execution_count": 5,
      "outputs": []
    },
    {
      "cell_type": "code",
      "source": [
        "agg = df.select(\n",
        "    total_carats = pl.col(\"Carat Weight\").sum(),\n",
        "    total_grams = pl.col(\"Carat Weight\").sum() * 0.2,\n",
        "    total_kilograms = (pl.col(\"Carat Weight\").sum() * 0.2) / 1000\n",
        ")\n",
        "print(agg)"
      ],
      "metadata": {
        "colab": {
          "base_uri": "https://localhost:8080/"
        },
        "id": "dKJtKNyNJvx8",
        "outputId": "e580f92a-4463-43bb-93ea-30a2f77cf315"
      },
      "execution_count": 7,
      "outputs": [
        {
          "output_type": "stream",
          "name": "stdout",
          "text": [
            "shape: (1, 3)\n",
            "┌──────────────┬─────────────┬─────────────────┐\n",
            "│ total_carats ┆ total_grams ┆ total_kilograms │\n",
            "│ ---          ┆ ---         ┆ ---             │\n",
            "│ f64          ┆ f64         ┆ f64             │\n",
            "╞══════════════╪═════════════╪═════════════════╡\n",
            "│ 8007.12      ┆ 1601.424    ┆ 1.601424        │\n",
            "└──────────────┴─────────────┴─────────────────┘\n"
          ]
        }
      ]
    },
    {
      "cell_type": "code",
      "source": [
        "cuts_df = df.select(pl.col(\"Cut\").n_unique().alias(\"unique_cuts\"))\n",
        "cut_list = df.get_column(\"Cut\").unique().sort().to_list()\n",
        "\n",
        "print(cuts_df)\n",
        "print(\"Cuts:\", cut_list)"
      ],
      "metadata": {
        "colab": {
          "base_uri": "https://localhost:8080/"
        },
        "id": "iX2BX0x-LYc8",
        "outputId": "56796f30-d3eb-462a-e7de-41f844dc5baa"
      },
      "execution_count": 9,
      "outputs": [
        {
          "output_type": "stream",
          "name": "stdout",
          "text": [
            "shape: (1, 1)\n",
            "┌─────────────┐\n",
            "│ unique_cuts │\n",
            "│ ---         │\n",
            "│ u32         │\n",
            "╞═════════════╡\n",
            "│ 5           │\n",
            "└─────────────┘\n",
            "Cuts: ['Fair', 'Good', 'Ideal', 'Signature-Ideal', 'Very Good']\n"
          ]
        }
      ]
    },
    {
      "cell_type": "code",
      "source": [
        "price_col = \"price\" if \"price\" in df.columns else \"Price\"\n",
        "\n",
        "max_price = df.select(pl.col(price_col).max()).item()\n",
        "min_price = df.select(pl.col(price_col).min()).item()\n",
        "\n",
        "print(f\"Max price: {max_price}\")\n",
        "print(df.filter(pl.col(price_col) == max_price))\n",
        "\n",
        "print(f\"Min price: {min_price}\")\n",
        "print(df.filter(pl.col(price_col) == min_price))"
      ],
      "metadata": {
        "colab": {
          "base_uri": "https://localhost:8080/"
        },
        "id": "aV_aA1o2Lt2U",
        "outputId": "733ed59d-a193-44a9-e71d-0635158d600a"
      },
      "execution_count": 11,
      "outputs": [
        {
          "output_type": "stream",
          "name": "stdout",
          "text": [
            "Max price: 101561\n",
            "shape: (1, 8)\n",
            "┌──────────────┬───────┬───────┬─────────┬────────┬──────────┬────────┬────────┐\n",
            "│ Carat Weight ┆ Cut   ┆ Color ┆ Clarity ┆ Polish ┆ Symmetry ┆ Report ┆ Price  │\n",
            "│ ---          ┆ ---   ┆ ---   ┆ ---     ┆ ---    ┆ ---      ┆ ---    ┆ ---    │\n",
            "│ f64          ┆ str   ┆ str   ┆ str     ┆ str    ┆ str      ┆ str    ┆ i64    │\n",
            "╞══════════════╪═══════╪═══════╪═════════╪════════╪══════════╪════════╪════════╡\n",
            "│ 2.79         ┆ Ideal ┆ D     ┆ IF      ┆ EX     ┆ EX       ┆ GIA    ┆ 101561 │\n",
            "└──────────────┴───────┴───────┴─────────┴────────┴──────────┴────────┴────────┘\n",
            "Min price: 2184\n",
            "shape: (1, 8)\n",
            "┌──────────────┬──────┬───────┬─────────┬────────┬──────────┬────────┬───────┐\n",
            "│ Carat Weight ┆ Cut  ┆ Color ┆ Clarity ┆ Polish ┆ Symmetry ┆ Report ┆ Price │\n",
            "│ ---          ┆ ---  ┆ ---   ┆ ---     ┆ ---    ┆ ---      ┆ ---    ┆ ---   │\n",
            "│ f64          ┆ str  ┆ str   ┆ str     ┆ str    ┆ str      ┆ str    ┆ i64   │\n",
            "╞══════════════╪══════╪═══════╪═════════╪════════╪══════════╪════════╪═══════╡\n",
            "│ 0.77         ┆ Good ┆ I     ┆ VS1     ┆ VG     ┆ G        ┆ AGSL   ┆ 2184  │\n",
            "└──────────────┴──────┴───────┴─────────┴────────┴──────────┴────────┴───────┘\n"
          ]
        }
      ]
    },
    {
      "cell_type": "code",
      "source": [
        "by_color = (\n",
        "    df.group_by(\"Color\")\n",
        "      .agg([\n",
        "          pl.col(\"Price\").median().alias(\"median_price\"),\n",
        "          pl.col(\"Price\").mean().alias(\"mean_price\"),\n",
        "          pl.len().alias(\"n\")\n",
        "      ])\n",
        "      .sort(\"Color\")\n",
        ")\n",
        "print(by_color)"
      ],
      "metadata": {
        "colab": {
          "base_uri": "https://localhost:8080/"
        },
        "id": "ZvyMLlpAMTCe",
        "outputId": "79596a23-f9ca-4600-ee45-a4188bb6b9b3"
      },
      "execution_count": 13,
      "outputs": [
        {
          "output_type": "stream",
          "name": "stdout",
          "text": [
            "shape: (6, 4)\n",
            "┌───────┬──────────────┬──────────────┬──────┐\n",
            "│ Color ┆ median_price ┆ mean_price   ┆ n    │\n",
            "│ ---   ┆ ---          ┆ ---          ┆ ---  │\n",
            "│ str   ┆ f64          ┆ f64          ┆ u32  │\n",
            "╞═══════╪══════════════╪══════════════╪══════╡\n",
            "│ D     ┆ 7567.0       ┆ 15255.783661 ┆ 661  │\n",
            "│ E     ┆ 7059.5       ┆ 11539.190231 ┆ 778  │\n",
            "│ F     ┆ 8860.0       ┆ 12712.241856 ┆ 1013 │\n",
            "│ G     ┆ 8800.0       ┆ 12520.050633 ┆ 1501 │\n",
            "│ H     ┆ 7169.0       ┆ 10487.347544 ┆ 1079 │\n",
            "│ I     ┆ 6655.0       ┆ 8989.636364  ┆ 968  │\n",
            "└───────┴──────────────┴──────────────┴──────┘\n"
          ]
        }
      ]
    },
    {
      "cell_type": "code",
      "source": [
        "clarity_summary = (\n",
        "    df.group_by(\"Clarity\")\n",
        "      .agg([\n",
        "          pl.len().alias(\"count\"),\n",
        "          pl.col(\"Price\").median().alias(\"median_price\"),\n",
        "          pl.col(\"Carat Weight\").sum().alias(\"total_carats\")\n",
        "      ])\n",
        "      .sort(\"Clarity\")\n",
        ")\n",
        "\n",
        "print(clarity_summary)"
      ],
      "metadata": {
        "colab": {
          "base_uri": "https://localhost:8080/"
        },
        "id": "bbZSBAhqT-1b",
        "outputId": "737d30b2-1e81-446a-f483-13f417878102"
      },
      "execution_count": 15,
      "outputs": [
        {
          "output_type": "stream",
          "name": "stdout",
          "text": [
            "shape: (7, 4)\n",
            "┌─────────┬───────┬──────────────┬──────────────┐\n",
            "│ Clarity ┆ count ┆ median_price ┆ total_carats │\n",
            "│ ---     ┆ ---   ┆ ---          ┆ ---          │\n",
            "│ str     ┆ u32   ┆ f64          ┆ f64          │\n",
            "╞═════════╪═══════╪══════════════╪══════════════╡\n",
            "│ FL      ┆ 4     ┆ 62371.5      ┆ 7.87         │\n",
            "│ IF      ┆ 219   ┆ 12647.0      ┆ 316.0        │\n",
            "│ SI1     ┆ 2059  ┆ 5417.0       ┆ 2563.69      │\n",
            "│ VS1     ┆ 1192  ┆ 9245.0       ┆ 1682.74      │\n",
            "│ VS2     ┆ 1575  ┆ 7568.0       ┆ 2170.81      │\n",
            "│ VVS1    ┆ 285   ┆ 11142.0      ┆ 389.43       │\n",
            "│ VVS2    ┆ 666   ┆ 10266.0      ┆ 876.58       │\n",
            "└─────────┴───────┴──────────────┴──────────────┘\n"
          ]
        }
      ]
    },
    {
      "cell_type": "code",
      "source": [
        "combos = (\n",
        "    df.group_by([\"Cut\", \"Color\"])\n",
        "      .agg([\n",
        "          pl.len().alias(\"count\"),\n",
        "          pl.col(\"Price\").median().alias(\"median_price\"),\n",
        "      ])\n",
        "      .sort(\"median_price\", descending=True)\n",
        ")\n",
        "print(combos)\n",
        "\n",
        "print(\"\\nTop combos with at least 20 samples:\\n\")\n",
        "print(combos.filter(pl.col(\"count\") >= 20))"
      ],
      "metadata": {
        "colab": {
          "base_uri": "https://localhost:8080/"
        },
        "id": "d_NBDJX-UQBx",
        "outputId": "6ef4ebb8-6f01-4a17-f426-705a7073a761"
      },
      "execution_count": 18,
      "outputs": [
        {
          "output_type": "stream",
          "name": "stdout",
          "text": [
            "shape: (30, 4)\n",
            "┌─────────────────┬───────┬───────┬──────────────┐\n",
            "│ Cut             ┆ Color ┆ count ┆ median_price │\n",
            "│ ---             ┆ ---   ┆ ---   ┆ ---          │\n",
            "│ str             ┆ str   ┆ u32   ┆ f64          │\n",
            "╞═════════════════╪═══════╪═══════╪══════════════╡\n",
            "│ Signature-Ideal ┆ D     ┆ 30    ┆ 11712.5      │\n",
            "│ Signature-Ideal ┆ E     ┆ 35    ┆ 11014.0      │\n",
            "│ Signature-Ideal ┆ F     ┆ 38    ┆ 10433.0      │\n",
            "│ Ideal           ┆ F     ┆ 363   ┆ 10360.0      │\n",
            "│ Ideal           ┆ D     ┆ 280   ┆ 10338.0      │\n",
            "│ …               ┆ …     ┆ …     ┆ …            │\n",
            "│ Fair            ┆ E     ┆ 32    ┆ 4908.5       │\n",
            "│ Fair            ┆ G     ┆ 21    ┆ 4646.0       │\n",
            "│ Fair            ┆ F     ┆ 24    ┆ 4628.0       │\n",
            "│ Fair            ┆ H     ┆ 24    ┆ 4358.0       │\n",
            "│ Fair            ┆ I     ┆ 16    ┆ 3801.0       │\n",
            "└─────────────────┴───────┴───────┴──────────────┘\n",
            "\n",
            "Top combos with at least 20 samples:\n",
            "\n",
            "shape: (28, 4)\n",
            "┌─────────────────┬───────┬───────┬──────────────┐\n",
            "│ Cut             ┆ Color ┆ count ┆ median_price │\n",
            "│ ---             ┆ ---   ┆ ---   ┆ ---          │\n",
            "│ str             ┆ str   ┆ u32   ┆ f64          │\n",
            "╞═════════════════╪═══════╪═══════╪══════════════╡\n",
            "│ Signature-Ideal ┆ D     ┆ 30    ┆ 11712.5      │\n",
            "│ Signature-Ideal ┆ E     ┆ 35    ┆ 11014.0      │\n",
            "│ Signature-Ideal ┆ F     ┆ 38    ┆ 10433.0      │\n",
            "│ Ideal           ┆ F     ┆ 363   ┆ 10360.0      │\n",
            "│ Ideal           ┆ D     ┆ 280   ┆ 10338.0      │\n",
            "│ …               ┆ …     ┆ …     ┆ …            │\n",
            "│ Good            ┆ H     ┆ 128   ┆ 5453.5       │\n",
            "│ Fair            ┆ E     ┆ 32    ┆ 4908.5       │\n",
            "│ Fair            ┆ G     ┆ 21    ┆ 4646.0       │\n",
            "│ Fair            ┆ F     ┆ 24    ┆ 4628.0       │\n",
            "│ Fair            ┆ H     ┆ 24    ┆ 4358.0       │\n",
            "└─────────────────┴───────┴───────┴──────────────┘\n"
          ]
        }
      ]
    },
    {
      "cell_type": "code",
      "source": [
        "segments = (\n",
        "    df.group_by([\"Color\", \"Cut\"])\n",
        "      .agg([\n",
        "          pl.len().alias(\"count\"),\n",
        "          pl.col(\"Price\").sum().alias(\"total_worth\"),\n",
        "          pl.col(\"Price\").median().alias(\"typical_price\"),\n",
        "      ])\n",
        "      .sort(\"total_worth\", descending=True)\n",
        "      .head(5)\n",
        ")\n",
        "print(segments)"
      ],
      "metadata": {
        "colab": {
          "base_uri": "https://localhost:8080/"
        },
        "id": "gMGFO4B7URT6",
        "outputId": "1d7093a6-074e-476e-c6ea-5c53e3192ef4"
      },
      "execution_count": 19,
      "outputs": [
        {
          "output_type": "stream",
          "name": "stdout",
          "text": [
            "shape: (5, 5)\n",
            "┌───────┬───────────┬───────┬─────────────┬───────────────┐\n",
            "│ Color ┆ Cut       ┆ count ┆ total_worth ┆ typical_price │\n",
            "│ ---   ┆ ---       ┆ ---   ┆ ---         ┆ ---           │\n",
            "│ str   ┆ str       ┆ u32   ┆ i64         ┆ f64           │\n",
            "╞═══════╪═══════════╪═══════╪═════════════╪═══════════════╡\n",
            "│ G     ┆ Ideal     ┆ 690   ┆ 9363514     ┆ 9510.5        │\n",
            "│ G     ┆ Very Good ┆ 578   ┆ 7140620     ┆ 8249.0        │\n",
            "│ F     ┆ Very Good ┆ 455   ┆ 5648327     ┆ 8330.0        │\n",
            "│ F     ┆ Ideal     ┆ 363   ┆ 5346782     ┆ 10360.0       │\n",
            "│ H     ┆ Ideal     ┆ 458   ┆ 5279687     ┆ 8014.0        │\n",
            "└───────┴───────────┴───────┴─────────────┴───────────────┘\n"
          ]
        }
      ]
    }
  ]
}